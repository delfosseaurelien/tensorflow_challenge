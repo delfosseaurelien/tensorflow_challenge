{
 "cells": [
  {
   "cell_type": "code",
   "execution_count": 1,
   "metadata": {
    "collapsed": true
   },
   "outputs": [],
   "source": [
    "from pathlib import Path\n",
    "import time\n",
    "\n",
    "from scipy.io import wavfile\n",
    "import numpy as np\n",
    "import pandas as pd\n",
    "from scipy import signal\n",
    "from sklearn.model_selection import train_test_split\n",
    "from sklearn.preprocessing import LabelBinarizer"
   ]
  },
  {
   "cell_type": "code",
   "execution_count": 2,
   "metadata": {},
   "outputs": [
    {
     "name": "stderr",
     "output_type": "stream",
     "text": [
      "Using TensorFlow backend.\n"
     ]
    }
   ],
   "source": [
    "import keras\n",
    "\n",
    "from keras.layers import Conv2D, BatchNormalization, MaxPooling2D, Dense, Input, Dropout, Flatten\n",
    "from keras.models import Model\n",
    "from keras.optimizers import Adam\n",
    "from keras.callbacks import TensorBoard"
   ]
  },
  {
   "cell_type": "code",
   "execution_count": null,
   "metadata": {},
   "outputs": [],
   "source": [
    "PATH_DATA = 'data/train/audio'"
   ]
  },
  {
   "cell_type": "code",
   "execution_count": 48,
   "metadata": {},
   "outputs": [],
   "source": [
    "def get_data(path):\n",
    "    ''' Returns dataframe with columns: 'path', 'word'.'''\n",
    "    datadir = Path(path)\n",
    "    files = [(str(f), f.parts[-2]) for f in datadir.glob('**/*.wav') if f]\n",
    "    df = pd.DataFrame(files, columns=['path', 'word'])\n",
    "    \n",
    "    return df\n"
   ]
  },
  {
   "cell_type": "code",
   "execution_count": 17,
   "metadata": {},
   "outputs": [],
   "source": [
    ""
   ]
  },
  {
   "cell_type": "code",
   "execution_count": 47,
   "metadata": {},
   "outputs": [],
   "source": [
    "def prepare_data(df):\n",
    "    '''Transform data into something more useful.'''\n",
    "    train_words = ['yes', 'no', 'up', 'down', 'left', 'right', 'on', 'off', 'stop', 'go']\n",
    "    words = df.word.unique().tolist()\n",
    "    silence = ['_background_noise_']\n",
    "    unknown = [w for w in words if w not in silence + train_words]\n",
    "\n",
    "    # there are only 6 silence files. Mark them as unknown too.\n",
    "    df.loc[df.word.isin(silence), 'word'] = 'unknown'\n",
    "    df.loc[df.word.isin(unknown), 'word'] = 'unknown'\n",
    "    \n",
    "    return df"
   ]
  },
  {
   "cell_type": "code",
   "execution_count": 37,
   "metadata": {},
   "outputs": [],
   "source": [
    "def get_specgrams(paths, nsamples=16000):\n",
    "    '''\n",
    "    Given list of paths, return specgrams.\n",
    "    '''\n",
    "    \n",
    "    # read the wav files\n",
    "    wavs = [wavfile.read(x)[1] for x in paths]\n",
    "\n",
    "    # zero pad the shorter samples and cut off the long ones.\n",
    "    data = [] \n",
    "    for wav in wavs:\n",
    "        if wav.size < 16000:\n",
    "            d = np.pad(wav, (nsamples - wav.size, 0), mode='constant')\n",
    "        else:\n",
    "            d = wav[0:nsamples]\n",
    "        data.append(d)\n",
    "\n",
    "    # get the specgram\n",
    "    specgram = [signal.spectrogram(d, nperseg=256, noverlap=128)[2] for d in data]\n",
    "    specgram = [s.reshape(129, 124, -1) for s in specgram]\n",
    "    \n",
    "    return specgram"
   ]
  },
  {
   "cell_type": "code",
   "execution_count": 44,
   "metadata": {},
   "outputs": [],
   "source": [
    "def get_model(shape):\n",
    "    '''Create a keras model.'''\n",
    "    inputlayer = Input(shape=shape)\n",
    "\n",
    "    model = BatchNormalization()(inputlayer)\n",
    "    model = Conv2D(16, (3, 3), activation='elu')(model)\n",
    "    model = Dropout(0.25)(model)\n",
    "    model = MaxPooling2D((2, 2))(model)\n",
    "\n",
    "    model = Flatten()(model)\n",
    "    model = Dense(32, activation='elu')(model)\n",
    "    model = Dropout(0.25)(model)\n",
    "    \n",
    "    # 11 because background noise has been taken out\n",
    "    model = Dense(11, activation='softmax')(model)\n",
    "    \n",
    "    model = Model(inputs=inputlayer, outputs=model)\n",
    "    \n",
    "    return model\n",
    "\n"
   ]
  },
  {
   "cell_type": "code",
   "execution_count": 45,
   "metadata": {},
   "outputs": [
    {
     "name": "stdout",
     "output_type": "stream",
     "text": [
      "_________________________________________________________________\nLayer (type)                 Output Shape              Param #   \n=================================================================\ninput_4 (InputLayer)         (None, 129, 124, 1)       0         \n_________________________________________________________________\nbatch_normalization_4 (Batch (None, 129, 124, 1)       4         \n_________________________________________________________________\nconv2d_4 (Conv2D)            (None, 127, 122, 16)      160       \n_________________________________________________________________\ndropout_7 (Dropout)          (None, 127, 122, 16)      0         \n_________________________________________________________________\nmax_pooling2d_4 (MaxPooling2 (None, 63, 61, 16)        0         \n_________________________________________________________________\nflatten_4 (Flatten)          (None, 61488)             0         \n_________________________________________________________________\ndense_7 (Dense)              (None, 32)                1967648   \n_________________________________________________________________\ndropout_8 (Dropout)          (None, 32)                0         \n_________________________________________________________________\ndense_8 (Dense)              (None, 11)                363       \n=================================================================\nTotal params: 1,968,175\nTrainable params: 1,968,173\nNon-trainable params: 2\n_________________________________________________________________\n"
     ]
    }
   ],
   "source": [
    "shape = (129, 124, 1)\n",
    "get_model(shape).summary()"
   ]
  },
  {
   "cell_type": "code",
   "execution_count": 63,
   "metadata": {},
   "outputs": [],
   "source": [
    ""
   ]
  },
  {
   "cell_type": "code",
   "execution_count": 58,
   "metadata": {},
   "outputs": [
    {
     "data": {
      "text/plain": [
       "unknown    41045\nstop        2380\nyes         2377\nup          2375\nno          2375\ngo          2372\non          2367\nright       2367\ndown        2359\noff         2357\nleft        2353\nName: word, dtype: int64"
      ]
     },
     "execution_count": 58,
     "metadata": {},
     "output_type": "execute_result"
    }
   ],
   "source": [
    ""
   ]
  },
  {
   "cell_type": "code",
   "execution_count": null,
   "metadata": {},
   "outputs": [],
   "source": []
  },
  {
   "cell_type": "code",
   "execution_count": null,
   "metadata": {},
   "outputs": [],
   "source": []
  }
 ],
 "metadata": {
  "kernelspec": {
   "display_name": "Python 2",
   "language": "python",
   "name": "python2"
  },
  "language_info": {
   "codemirror_mode": {
    "name": "ipython",
    "version": 2
   },
   "file_extension": ".py",
   "mimetype": "text/x-python",
   "name": "python",
   "nbconvert_exporter": "python",
   "pygments_lexer": "ipython2",
   "version": "2.7.6"
  }
 },
 "nbformat": 4,
 "nbformat_minor": 0
}
